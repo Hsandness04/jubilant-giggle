{
 "cells": [
  {
   "cell_type": "code",
   "execution_count": 1,
   "metadata": {},
   "outputs": [
    {
     "data": {
      "text/plain": [
       "PosixPath('spam/bacon/eggs')"
      ]
     },
     "execution_count": 1,
     "metadata": {},
     "output_type": "execute_result"
    }
   ],
   "source": [
    "from pathlib import Path\n",
    "\n",
    "Path('spam', 'bacon', 'eggs')"
   ]
  },
  {
   "cell_type": "code",
   "execution_count": 9,
   "metadata": {},
   "outputs": [],
   "source": [
    "import random\n",
    "\n",
    "capitals = {'Alabama': 'Montgomery', 'Alaska': 'Juneau', 'Arizona': 'Phoenix', 'Arkansas': 'Little Rock', 'California':\n",
    "           'Sacremento', 'Colorado': 'Denver', 'Conneticut': 'Hartford', 'Delaware': 'Dover', 'Flordia': 'Tallahasse',\n",
    "           'Georgia': 'Atlanta', 'Hawaii': 'Honnolulu', 'Idaho': 'Boise', 'Illinois': 'Springfield', 'Indiana': 'Indiannapolis', 'Iowa':\n",
    "           'Des Moines', 'Kansas': 'Topeka', 'Kentucky': 'Frankfurt', 'Louisiana': 'Baton Rouge', 'Maine': 'Augusta', 'Maryland': 'Annapolis',\n",
    "           'Massachusetts': 'Boston', 'Michigan': 'Lansing', 'Minnesota': 'St. Paul', 'Mississippi': ' Jackson', 'Missouri': 'Jefferson City',\n",
    "           'New Hampshire': 'Concord', 'Montana': 'Helena', 'Nebraska': 'Lincoln', 'Nevada': 'Carson City', 'New Jersey': 'Trenton', 'New Mexico': 'Santa Fe',\n",
    "           'New York': 'Albany', 'North Carolina': 'Raleigh', 'North Dakota': 'Bismark', 'Ohio': 'Columbus', 'Oklahoma': 'Oklahoma City',\n",
    "           'Oregon': 'Salem', 'Pennsylvania': 'Harrisburg', 'Rhode Island': 'Providence', 'South Carolina': 'Columbia', 'South Dakota': 'Pierre',\n",
    "           'Tennessee': 'Nashville', 'Texas': 'Austin', 'Utah': 'Salt Lake City', 'Vermont': 'Montpelier', 'Virginia': 'Richmond',\n",
    "           'Washington': 'Olympia', 'West Virginia': 'Charleston', 'Wisconsin': 'Madison', 'Wyoming': 'Cheyenne'}\n",
    "\n",
    "for quizNum in range(35):\n",
    "    # Create the quiz and answer the key files\n",
    "    quizFile = open('capitalquiz{}.txt'.format(quizNum + 1), 'w')\n",
    "    answerKeyFile = open('capitalquiz_answers{}.txt'.format(quizNum + 1), 'w')\n",
    "    \n",
    "    quizFile.write('Name:\\n\\nDate:\\nPeriod:\\n\\n')\n",
    "    quizFile.write((' ' * 20) + 'State Capitals Quiz Form{}'.format(quizNum + 1))\n",
    "    quizFile.write('\\n\\n')\n",
    "    \n",
    "    # Shuffle the order of the states\n",
    "    states = list(capitals.keys())\n",
    "    random.shuffle(states)\n",
    "    \n",
    "    # Loop through all of the states to make a question for each\n",
    "    for questionNum in range(50):\n",
    "    \n",
    "        # Get right and wrong answers\n",
    "        correctAnswer = capitals[states[questionNum]]\n",
    "        wrongAnswers = list(capitals.values())\n",
    "        del wrongAnswers[wrongAnswers.index(correctAnswer)]\n",
    "        wrongAnswers = random.sample(wrongAnswers, 3)\n",
    "        answerOptions = wrongAnswers + [correctAnswer]\n",
    "        random.shuffle(answerOptions)\n",
    "        \n",
    "        quizFile.write('{} What is the capital of {}?\\n'.format(questionNum + 1, states[questionNum]))\n",
    "        for i in range (4):\n",
    "            quizFile.write('    {}. {}\\n'.format('ABCD'[i], answerOptions[i]))\n",
    "        quizFile.write('\\n')\n",
    "        \n",
    "        answerKeyFile.write('{}. {}'.format(questionNum + 1, 'ABCD'[answerOptions.index(correctAnswer)]))\n",
    "    quizFile.close()\n",
    "    answerKeyFile.close()\n",
    "    \n",
    "    \n",
    "    \n",
    "    \n",
    "    \n",
    "    \n",
    "    \n",
    "    \n",
    "    \n",
    "    \n",
    "    \n",
    "    \n",
    "    \n",
    "    \n",
    "    \n",
    "    \n",
    "    \n",
    "    \n",
    "    \n",
    "    \n",
    "    \n",
    "    \n",
    "    \n",
    "    \n",
    "    \n",
    "    \n",
    "    \n",
    "    \n",
    "    \n",
    "    \n",
    "    \n",
    "    \n",
    "    \n",
    "    "
   ]
  }
 ],
 "metadata": {
  "kernelspec": {
   "display_name": "Python 3",
   "language": "python",
   "name": "python3"
  },
  "language_info": {
   "codemirror_mode": {
    "name": "ipython",
    "version": 3
   },
   "file_extension": ".py",
   "mimetype": "text/x-python",
   "name": "python",
   "nbconvert_exporter": "python",
   "pygments_lexer": "ipython3",
   "version": "3.7.4"
  }
 },
 "nbformat": 4,
 "nbformat_minor": 2
}
